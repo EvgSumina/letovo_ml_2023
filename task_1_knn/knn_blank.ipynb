{
 "cells": [
  {
   "cell_type": "markdown",
   "id": "a28602a8",
   "metadata": {
    "id": "a28602a8"
   },
   "source": [
    "# Часть для показа"
   ]
  },
  {
   "cell_type": "code",
   "execution_count": 1,
   "id": "09534f0e",
   "metadata": {
    "id": "09534f0e"
   },
   "outputs": [],
   "source": [
    "import numpy as np\n",
    "import pandas as pd\n",
    "from scipy.sparse import csr_matrix\n",
    "from sklearn.neighbors import NearestNeighbors"
   ]
  },
  {
   "cell_type": "code",
   "execution_count": 12,
   "id": "6708aa03",
   "metadata": {
    "id": "6708aa03"
   },
   "outputs": [
    {
     "data": {
      "text/html": [
       "<div>\n",
       "<style scoped>\n",
       "    .dataframe tbody tr th:only-of-type {\n",
       "        vertical-align: middle;\n",
       "    }\n",
       "\n",
       "    .dataframe tbody tr th {\n",
       "        vertical-align: top;\n",
       "    }\n",
       "\n",
       "    .dataframe thead th {\n",
       "        text-align: right;\n",
       "    }\n",
       "</style>\n",
       "<table border=\"1\" class=\"dataframe\">\n",
       "  <thead>\n",
       "    <tr style=\"text-align: right;\">\n",
       "      <th></th>\n",
       "      <th>movieId</th>\n",
       "      <th>title</th>\n",
       "      <th>userId</th>\n",
       "      <th>rating</th>\n",
       "    </tr>\n",
       "  </thead>\n",
       "  <tbody>\n",
       "    <tr>\n",
       "      <th>0</th>\n",
       "      <td>1</td>\n",
       "      <td>Toy Story (1995)</td>\n",
       "      <td>3</td>\n",
       "      <td>4.0</td>\n",
       "    </tr>\n",
       "    <tr>\n",
       "      <th>1</th>\n",
       "      <td>1</td>\n",
       "      <td>Toy Story (1995)</td>\n",
       "      <td>6</td>\n",
       "      <td>5.0</td>\n",
       "    </tr>\n",
       "    <tr>\n",
       "      <th>2</th>\n",
       "      <td>1</td>\n",
       "      <td>Toy Story (1995)</td>\n",
       "      <td>8</td>\n",
       "      <td>4.0</td>\n",
       "    </tr>\n",
       "    <tr>\n",
       "      <th>3</th>\n",
       "      <td>1</td>\n",
       "      <td>Toy Story (1995)</td>\n",
       "      <td>10</td>\n",
       "      <td>4.0</td>\n",
       "    </tr>\n",
       "    <tr>\n",
       "      <th>4</th>\n",
       "      <td>1</td>\n",
       "      <td>Toy Story (1995)</td>\n",
       "      <td>11</td>\n",
       "      <td>4.5</td>\n",
       "    </tr>\n",
       "  </tbody>\n",
       "</table>\n",
       "</div>"
      ],
      "text/plain": [
       "   movieId             title  userId  rating\n",
       "0        1  Toy Story (1995)       3     4.0\n",
       "1        1  Toy Story (1995)       6     5.0\n",
       "2        1  Toy Story (1995)       8     4.0\n",
       "3        1  Toy Story (1995)      10     4.0\n",
       "4        1  Toy Story (1995)      11     4.5"
      ]
     },
     "execution_count": 12,
     "metadata": {},
     "output_type": "execute_result"
    }
   ],
   "source": [
    "dir_path = 'needed_data'\n",
    "data = pd.read_csv(dir_path + \"/cinema_data.csv.gz\", compression=\"gzip\")\n",
    "data.head()"
   ]
  },
  {
   "cell_type": "code",
   "execution_count": null,
   "id": "cd961efa",
   "metadata": {
    "id": "cd961efa",
    "outputId": "63ffb05c-7373-44e4-f96c-a0eb89240496"
   },
   "outputs": [
    {
     "data": {
      "text/html": [
       "<div>\n",
       "<style scoped>\n",
       "    .dataframe tbody tr th:only-of-type {\n",
       "        vertical-align: middle;\n",
       "    }\n",
       "\n",
       "    .dataframe tbody tr th {\n",
       "        vertical-align: top;\n",
       "    }\n",
       "\n",
       "    .dataframe thead th {\n",
       "        text-align: right;\n",
       "    }\n",
       "</style>\n",
       "<table border=\"1\" class=\"dataframe\">\n",
       "  <thead>\n",
       "    <tr style=\"text-align: right;\">\n",
       "      <th>userId</th>\n",
       "      <th>1</th>\n",
       "      <th>2</th>\n",
       "      <th>3</th>\n",
       "      <th>4</th>\n",
       "      <th>5</th>\n",
       "      <th>6</th>\n",
       "      <th>7</th>\n",
       "      <th>8</th>\n",
       "      <th>10</th>\n",
       "      <th>11</th>\n",
       "      <th>...</th>\n",
       "      <th>138484</th>\n",
       "      <th>138485</th>\n",
       "      <th>138486</th>\n",
       "      <th>138487</th>\n",
       "      <th>138488</th>\n",
       "      <th>138489</th>\n",
       "      <th>138490</th>\n",
       "      <th>138491</th>\n",
       "      <th>138492</th>\n",
       "      <th>138493</th>\n",
       "    </tr>\n",
       "    <tr>\n",
       "      <th>title</th>\n",
       "      <th></th>\n",
       "      <th></th>\n",
       "      <th></th>\n",
       "      <th></th>\n",
       "      <th></th>\n",
       "      <th></th>\n",
       "      <th></th>\n",
       "      <th></th>\n",
       "      <th></th>\n",
       "      <th></th>\n",
       "      <th></th>\n",
       "      <th></th>\n",
       "      <th></th>\n",
       "      <th></th>\n",
       "      <th></th>\n",
       "      <th></th>\n",
       "      <th></th>\n",
       "      <th></th>\n",
       "      <th></th>\n",
       "      <th></th>\n",
       "      <th></th>\n",
       "    </tr>\n",
       "  </thead>\n",
       "  <tbody>\n",
       "    <tr>\n",
       "      <th>Ace Ventura: When Nature Calls (1995)</th>\n",
       "      <td>0.0</td>\n",
       "      <td>0.0</td>\n",
       "      <td>0.0</td>\n",
       "      <td>3.0</td>\n",
       "      <td>0.0</td>\n",
       "      <td>0.0</td>\n",
       "      <td>0.0</td>\n",
       "      <td>1.0</td>\n",
       "      <td>0.0</td>\n",
       "      <td>3.5</td>\n",
       "      <td>...</td>\n",
       "      <td>2.0</td>\n",
       "      <td>0.0</td>\n",
       "      <td>0.0</td>\n",
       "      <td>0.0</td>\n",
       "      <td>0.0</td>\n",
       "      <td>0.0</td>\n",
       "      <td>0.0</td>\n",
       "      <td>0.0</td>\n",
       "      <td>0.0</td>\n",
       "      <td>4.0</td>\n",
       "    </tr>\n",
       "    <tr>\n",
       "      <th>Across the Sea of Time (1995)</th>\n",
       "      <td>0.0</td>\n",
       "      <td>0.0</td>\n",
       "      <td>0.0</td>\n",
       "      <td>0.0</td>\n",
       "      <td>0.0</td>\n",
       "      <td>0.0</td>\n",
       "      <td>0.0</td>\n",
       "      <td>0.0</td>\n",
       "      <td>0.0</td>\n",
       "      <td>0.0</td>\n",
       "      <td>...</td>\n",
       "      <td>0.0</td>\n",
       "      <td>0.0</td>\n",
       "      <td>0.0</td>\n",
       "      <td>0.0</td>\n",
       "      <td>0.0</td>\n",
       "      <td>0.0</td>\n",
       "      <td>0.0</td>\n",
       "      <td>0.0</td>\n",
       "      <td>0.0</td>\n",
       "      <td>0.0</td>\n",
       "    </tr>\n",
       "    <tr>\n",
       "      <th>Amazing Panda Adventure, The (1995)</th>\n",
       "      <td>0.0</td>\n",
       "      <td>0.0</td>\n",
       "      <td>0.0</td>\n",
       "      <td>0.0</td>\n",
       "      <td>0.0</td>\n",
       "      <td>0.0</td>\n",
       "      <td>0.0</td>\n",
       "      <td>0.0</td>\n",
       "      <td>0.0</td>\n",
       "      <td>0.0</td>\n",
       "      <td>...</td>\n",
       "      <td>0.0</td>\n",
       "      <td>0.0</td>\n",
       "      <td>0.0</td>\n",
       "      <td>0.0</td>\n",
       "      <td>0.0</td>\n",
       "      <td>0.0</td>\n",
       "      <td>0.0</td>\n",
       "      <td>0.0</td>\n",
       "      <td>0.0</td>\n",
       "      <td>0.0</td>\n",
       "    </tr>\n",
       "    <tr>\n",
       "      <th>American President, The (1995)</th>\n",
       "      <td>0.0</td>\n",
       "      <td>0.0</td>\n",
       "      <td>0.0</td>\n",
       "      <td>0.0</td>\n",
       "      <td>5.0</td>\n",
       "      <td>0.0</td>\n",
       "      <td>4.0</td>\n",
       "      <td>0.0</td>\n",
       "      <td>4.0</td>\n",
       "      <td>0.0</td>\n",
       "      <td>...</td>\n",
       "      <td>4.0</td>\n",
       "      <td>0.0</td>\n",
       "      <td>0.0</td>\n",
       "      <td>0.0</td>\n",
       "      <td>0.0</td>\n",
       "      <td>0.0</td>\n",
       "      <td>0.0</td>\n",
       "      <td>0.0</td>\n",
       "      <td>0.0</td>\n",
       "      <td>0.0</td>\n",
       "    </tr>\n",
       "    <tr>\n",
       "      <th>Angela (1995)</th>\n",
       "      <td>0.0</td>\n",
       "      <td>0.0</td>\n",
       "      <td>0.0</td>\n",
       "      <td>0.0</td>\n",
       "      <td>0.0</td>\n",
       "      <td>0.0</td>\n",
       "      <td>0.0</td>\n",
       "      <td>0.0</td>\n",
       "      <td>0.0</td>\n",
       "      <td>0.0</td>\n",
       "      <td>...</td>\n",
       "      <td>0.0</td>\n",
       "      <td>0.0</td>\n",
       "      <td>0.0</td>\n",
       "      <td>0.0</td>\n",
       "      <td>0.0</td>\n",
       "      <td>0.0</td>\n",
       "      <td>0.0</td>\n",
       "      <td>0.0</td>\n",
       "      <td>0.0</td>\n",
       "      <td>0.0</td>\n",
       "    </tr>\n",
       "    <tr>\n",
       "      <th>Angels and Insects (1995)</th>\n",
       "      <td>0.0</td>\n",
       "      <td>0.0</td>\n",
       "      <td>0.0</td>\n",
       "      <td>0.0</td>\n",
       "      <td>0.0</td>\n",
       "      <td>0.0</td>\n",
       "      <td>0.0</td>\n",
       "      <td>0.0</td>\n",
       "      <td>0.0</td>\n",
       "      <td>0.0</td>\n",
       "      <td>...</td>\n",
       "      <td>0.0</td>\n",
       "      <td>0.0</td>\n",
       "      <td>0.0</td>\n",
       "      <td>0.0</td>\n",
       "      <td>0.0</td>\n",
       "      <td>0.0</td>\n",
       "      <td>4.0</td>\n",
       "      <td>0.0</td>\n",
       "      <td>0.0</td>\n",
       "      <td>0.0</td>\n",
       "    </tr>\n",
       "    <tr>\n",
       "      <th>Anne Frank Remembered (1995)</th>\n",
       "      <td>0.0</td>\n",
       "      <td>0.0</td>\n",
       "      <td>0.0</td>\n",
       "      <td>0.0</td>\n",
       "      <td>0.0</td>\n",
       "      <td>0.0</td>\n",
       "      <td>0.0</td>\n",
       "      <td>0.0</td>\n",
       "      <td>0.0</td>\n",
       "      <td>0.0</td>\n",
       "      <td>...</td>\n",
       "      <td>0.0</td>\n",
       "      <td>0.0</td>\n",
       "      <td>0.0</td>\n",
       "      <td>0.0</td>\n",
       "      <td>0.0</td>\n",
       "      <td>0.0</td>\n",
       "      <td>0.0</td>\n",
       "      <td>0.0</td>\n",
       "      <td>0.0</td>\n",
       "      <td>0.0</td>\n",
       "    </tr>\n",
       "    <tr>\n",
       "      <th>Antonia's Line (Antonia) (1995)</th>\n",
       "      <td>0.0</td>\n",
       "      <td>0.0</td>\n",
       "      <td>0.0</td>\n",
       "      <td>0.0</td>\n",
       "      <td>0.0</td>\n",
       "      <td>0.0</td>\n",
       "      <td>0.0</td>\n",
       "      <td>0.0</td>\n",
       "      <td>0.0</td>\n",
       "      <td>0.0</td>\n",
       "      <td>...</td>\n",
       "      <td>0.0</td>\n",
       "      <td>0.0</td>\n",
       "      <td>0.0</td>\n",
       "      <td>0.0</td>\n",
       "      <td>0.0</td>\n",
       "      <td>0.0</td>\n",
       "      <td>3.0</td>\n",
       "      <td>0.0</td>\n",
       "      <td>0.0</td>\n",
       "      <td>0.0</td>\n",
       "    </tr>\n",
       "    <tr>\n",
       "      <th>Assassins (1995)</th>\n",
       "      <td>0.0</td>\n",
       "      <td>0.0</td>\n",
       "      <td>0.0</td>\n",
       "      <td>0.0</td>\n",
       "      <td>0.0</td>\n",
       "      <td>0.0</td>\n",
       "      <td>0.0</td>\n",
       "      <td>0.0</td>\n",
       "      <td>0.0</td>\n",
       "      <td>0.0</td>\n",
       "      <td>...</td>\n",
       "      <td>4.0</td>\n",
       "      <td>0.0</td>\n",
       "      <td>0.0</td>\n",
       "      <td>0.0</td>\n",
       "      <td>0.0</td>\n",
       "      <td>0.0</td>\n",
       "      <td>0.0</td>\n",
       "      <td>0.0</td>\n",
       "      <td>0.0</td>\n",
       "      <td>0.0</td>\n",
       "    </tr>\n",
       "    <tr>\n",
       "      <th>Babe (1995)</th>\n",
       "      <td>0.0</td>\n",
       "      <td>0.0</td>\n",
       "      <td>0.0</td>\n",
       "      <td>0.0</td>\n",
       "      <td>0.0</td>\n",
       "      <td>0.0</td>\n",
       "      <td>0.0</td>\n",
       "      <td>0.0</td>\n",
       "      <td>0.0</td>\n",
       "      <td>0.0</td>\n",
       "      <td>...</td>\n",
       "      <td>0.0</td>\n",
       "      <td>0.0</td>\n",
       "      <td>3.5</td>\n",
       "      <td>0.0</td>\n",
       "      <td>0.0</td>\n",
       "      <td>0.0</td>\n",
       "      <td>5.0</td>\n",
       "      <td>0.0</td>\n",
       "      <td>0.0</td>\n",
       "      <td>3.0</td>\n",
       "    </tr>\n",
       "  </tbody>\n",
       "</table>\n",
       "<p>10 rows × 123161 columns</p>\n",
       "</div>"
      ],
      "text/plain": [
       "userId                                 1       2       3       4       5       \\\n",
       "title                                                                           \n",
       "Ace Ventura: When Nature Calls (1995)     0.0     0.0     0.0     3.0     0.0   \n",
       "Across the Sea of Time (1995)             0.0     0.0     0.0     0.0     0.0   \n",
       "Amazing Panda Adventure, The (1995)       0.0     0.0     0.0     0.0     0.0   \n",
       "American President, The (1995)            0.0     0.0     0.0     0.0     5.0   \n",
       "Angela (1995)                             0.0     0.0     0.0     0.0     0.0   \n",
       "Angels and Insects (1995)                 0.0     0.0     0.0     0.0     0.0   \n",
       "Anne Frank Remembered (1995)              0.0     0.0     0.0     0.0     0.0   \n",
       "Antonia's Line (Antonia) (1995)           0.0     0.0     0.0     0.0     0.0   \n",
       "Assassins (1995)                          0.0     0.0     0.0     0.0     0.0   \n",
       "Babe (1995)                               0.0     0.0     0.0     0.0     0.0   \n",
       "\n",
       "userId                                 6       7       8       10      11      \\\n",
       "title                                                                           \n",
       "Ace Ventura: When Nature Calls (1995)     0.0     0.0     1.0     0.0     3.5   \n",
       "Across the Sea of Time (1995)             0.0     0.0     0.0     0.0     0.0   \n",
       "Amazing Panda Adventure, The (1995)       0.0     0.0     0.0     0.0     0.0   \n",
       "American President, The (1995)            0.0     4.0     0.0     4.0     0.0   \n",
       "Angela (1995)                             0.0     0.0     0.0     0.0     0.0   \n",
       "Angels and Insects (1995)                 0.0     0.0     0.0     0.0     0.0   \n",
       "Anne Frank Remembered (1995)              0.0     0.0     0.0     0.0     0.0   \n",
       "Antonia's Line (Antonia) (1995)           0.0     0.0     0.0     0.0     0.0   \n",
       "Assassins (1995)                          0.0     0.0     0.0     0.0     0.0   \n",
       "Babe (1995)                               0.0     0.0     0.0     0.0     0.0   \n",
       "\n",
       "userId                                 ...  138484  138485  138486  138487  \\\n",
       "title                                  ...                                   \n",
       "Ace Ventura: When Nature Calls (1995)  ...     2.0     0.0     0.0     0.0   \n",
       "Across the Sea of Time (1995)          ...     0.0     0.0     0.0     0.0   \n",
       "Amazing Panda Adventure, The (1995)    ...     0.0     0.0     0.0     0.0   \n",
       "American President, The (1995)         ...     4.0     0.0     0.0     0.0   \n",
       "Angela (1995)                          ...     0.0     0.0     0.0     0.0   \n",
       "Angels and Insects (1995)              ...     0.0     0.0     0.0     0.0   \n",
       "Anne Frank Remembered (1995)           ...     0.0     0.0     0.0     0.0   \n",
       "Antonia's Line (Antonia) (1995)        ...     0.0     0.0     0.0     0.0   \n",
       "Assassins (1995)                       ...     4.0     0.0     0.0     0.0   \n",
       "Babe (1995)                            ...     0.0     0.0     3.5     0.0   \n",
       "\n",
       "userId                                 138488  138489  138490  138491  138492  \\\n",
       "title                                                                           \n",
       "Ace Ventura: When Nature Calls (1995)     0.0     0.0     0.0     0.0     0.0   \n",
       "Across the Sea of Time (1995)             0.0     0.0     0.0     0.0     0.0   \n",
       "Amazing Panda Adventure, The (1995)       0.0     0.0     0.0     0.0     0.0   \n",
       "American President, The (1995)            0.0     0.0     0.0     0.0     0.0   \n",
       "Angela (1995)                             0.0     0.0     0.0     0.0     0.0   \n",
       "Angels and Insects (1995)                 0.0     0.0     4.0     0.0     0.0   \n",
       "Anne Frank Remembered (1995)              0.0     0.0     0.0     0.0     0.0   \n",
       "Antonia's Line (Antonia) (1995)           0.0     0.0     3.0     0.0     0.0   \n",
       "Assassins (1995)                          0.0     0.0     0.0     0.0     0.0   \n",
       "Babe (1995)                               0.0     0.0     5.0     0.0     0.0   \n",
       "\n",
       "userId                                 138493  \n",
       "title                                          \n",
       "Ace Ventura: When Nature Calls (1995)     4.0  \n",
       "Across the Sea of Time (1995)             0.0  \n",
       "Amazing Panda Adventure, The (1995)       0.0  \n",
       "American President, The (1995)            0.0  \n",
       "Angela (1995)                             0.0  \n",
       "Angels and Insects (1995)                 0.0  \n",
       "Anne Frank Remembered (1995)              0.0  \n",
       "Antonia's Line (Antonia) (1995)           0.0  \n",
       "Assassins (1995)                          0.0  \n",
       "Babe (1995)                               3.0  \n",
       "\n",
       "[10 rows x 123161 columns]"
      ]
     },
     "execution_count": 6,
     "metadata": {},
     "output_type": "execute_result"
    }
   ],
   "source": [
    "user_movie_table = data.pivot_table(index=[\"title\"], columns=[\"userId\"],\n",
    "                                    values=\"rating\").fillna(0)\n",
    "user_movie_table.head(10)"
   ]
  },
  {
   "cell_type": "code",
   "execution_count": null,
   "id": "781ed947",
   "metadata": {
    "id": "781ed947",
    "outputId": "cdfe5820-d42c-4fe2-809a-5636ace090a1"
   },
   "outputs": [
    {
     "name": "stdout",
     "output_type": "stream",
     "text": [
      "Choosen Movie is:  Home for the Holidays (1995)\n"
     ]
    }
   ],
   "source": [
    "query_index = np.random.choice(user_movie_table.shape[0])\n",
    "print(\"Choosen Movie is: \", user_movie_table.index[query_index])"
   ]
  },
  {
   "cell_type": "code",
   "execution_count": null,
   "id": "4ed6293f",
   "metadata": {
    "id": "4ed6293f"
   },
   "outputs": [],
   "source": [
    "user_movie_table_matrix = csr_matrix(user_movie_table.values)\n",
    "model_knn = NearestNeighbors(metric='cosine', algorithm='brute')\n",
    "model_knn.fit(user_movie_table_matrix)\n",
    "distances, indices = model_knn.kneighbors(user_movie_table.iloc[query_index, :].values.reshape(1,-1),\n",
    "                                          n_neighbors=6)"
   ]
  },
  {
   "cell_type": "code",
   "execution_count": null,
   "id": "9d0a2431",
   "metadata": {
    "id": "9d0a2431",
    "outputId": "30760110-315e-4e09-da04-dce3ffa00630"
   },
   "outputs": [
    {
     "name": "stdout",
     "output_type": "stream",
     "text": [
      "Recommendations for Home for the Holidays (1995):\n",
      "\n",
      "0: Waiting to Exhale (1995), with distance of 0.7833354794227636\n",
      "1: American President, The (1995), with distance of 0.7821364105044007\n",
      "2: To Die For (1995), with distance of 0.7564572134961813\n",
      "3: Brothers McMullen, The (1995), with distance of 0.7544111252512259\n",
      "4: How to Make an American Quilt (1995), with distance of 0.739039109462466\n"
     ]
    }
   ],
   "source": [
    "movie = []\n",
    "distance = []\n",
    "\n",
    "flag = False\n",
    "for ind, dist in zip(indices.flatten(), distances.flatten()):\n",
    "    if flag:\n",
    "        movie.append(user_movie_table.index[ind])\n",
    "        distance.append(dist)\n",
    "    else:\n",
    "        flag = True\n",
    "\n",
    "m = pd.Series(movie, name='movie')\n",
    "d = pd.Series(distance, name='distance')\n",
    "recommend = pd.concat([m, d], axis=1)\n",
    "recommend = recommend.sort_values('distance', ascending=False)\n",
    "\n",
    "print('Recommendations for {0}:\\n'.format(user_movie_table.index[query_index]))\n",
    "for i in range(recommend.shape[0]):\n",
    "    print('{0}: {1}, with distance of {2}'.format(i, recommend[\"movie\"].iloc[i], recommend[\"distance\"].iloc[i]))"
   ]
  },
  {
   "cell_type": "markdown",
   "id": "e36440d9",
   "metadata": {
    "id": "e36440d9"
   },
   "source": [
    "# Часть для самостоятельной работы"
   ]
  },
  {
   "cell_type": "code",
   "execution_count": null,
   "id": "39015141",
   "metadata": {
    "id": "39015141"
   },
   "outputs": [],
   "source": [
    "import matplotlib.pyplot as plt\n",
    "import seaborn as sns\n",
    "%matplotlib inline"
   ]
  },
  {
   "cell_type": "markdown",
   "id": "f60be6b4",
   "metadata": {
    "id": "f60be6b4"
   },
   "source": [
    "Сначала мы выполним предобработку данных.\n",
    "\n",
    "Прочитайте датасет из файла \"breast-cancer-wisconsin.data.txt\". Переименуйте колонки датасета по приведенному ниже шаблону."
   ]
  },
  {
   "cell_type": "code",
   "execution_count": null,
   "id": "SGI-OUkaby7K",
   "metadata": {
    "id": "SGI-OUkaby7K"
   },
   "outputs": [],
   "source": [
    "import pandas as pd"
   ]
  },
  {
   "cell_type": "code",
   "execution_count": null,
   "id": "APCSLiOne2_T",
   "metadata": {
    "id": "APCSLiOne2_T"
   },
   "outputs": [],
   "source": [
    "df = # place for your code\n",
    "col_names = ['Id', 'Clump_thickness', 'Uniformity_Cell_Size', 'Uniformity_Cell_Shape', 'Marginal_Adhesion',\n",
    "             'Single_Epithelial_Cell_Size', 'Bare_Nuclei', 'Bland_Chromatin', 'Normal_Nucleoli', 'Mitoses', 'Class']\n",
    "df.columns = col_names\n",
    "df.head()"
   ]
  },
  {
   "cell_type": "markdown",
   "id": "1d957061",
   "metadata": {
    "id": "1d957061"
   },
   "source": [
    "Для предсказания нам потребуются только значимые признаки. Поэтому удалите колонку Id из датасета."
   ]
  },
  {
   "cell_type": "code",
   "execution_count": null,
   "id": "dc9aa321",
   "metadata": {
    "id": "dc9aa321"
   },
   "outputs": [],
   "source": [
    "# place for your code"
   ]
  },
  {
   "cell_type": "markdown",
   "id": "120b9a74",
   "metadata": {
    "id": "120b9a74"
   },
   "source": [
    "Проверьте, есть ли в датасете данные нечислового формата. Если есть, приведите их к числовому формату. Для этого можно воспользоваться методами dtypes и pandas.to_numeric (дополнительно заполните атрибут errors с параметром 'coerce')."
   ]
  },
  {
   "cell_type": "code",
   "execution_count": null,
   "id": "6508a31f",
   "metadata": {
    "id": "6508a31f"
   },
   "outputs": [],
   "source": [
    "# place for your code"
   ]
  },
  {
   "cell_type": "code",
   "execution_count": null,
   "id": "0ec8438a",
   "metadata": {
    "id": "0ec8438a"
   },
   "outputs": [],
   "source": [
    "# place for your code"
   ]
  },
  {
   "cell_type": "markdown",
   "id": "388ded99",
   "metadata": {
    "id": "388ded99"
   },
   "source": [
    "Проверьте, содержит ли датасет пропуски. Заполните пропуски вашим любимым способом."
   ]
  },
  {
   "cell_type": "code",
   "execution_count": null,
   "id": "771c699d",
   "metadata": {
    "id": "771c699d"
   },
   "outputs": [],
   "source": [
    "# place for your code"
   ]
  },
  {
   "cell_type": "code",
   "execution_count": null,
   "id": "11abe9d3",
   "metadata": {
    "id": "11abe9d3"
   },
   "outputs": [],
   "source": [
    "# place for your code"
   ]
  },
  {
   "cell_type": "markdown",
   "id": "f2920237",
   "metadata": {
    "id": "f2920237"
   },
   "source": [
    "За таргет в данных отвечает колонка \"Class\". Давайте преобразуем значения из этой колонки в более привычный формат (переименуйте классы в 0 и 1)."
   ]
  },
  {
   "cell_type": "code",
   "execution_count": null,
   "id": "2ed2c0a4",
   "metadata": {
    "id": "2ed2c0a4"
   },
   "outputs": [],
   "source": [
    "# place for your code"
   ]
  },
  {
   "cell_type": "code",
   "execution_count": null,
   "id": "97c4e02e",
   "metadata": {
    "id": "97c4e02e"
   },
   "outputs": [],
   "source": [
    "# place for your code"
   ]
  },
  {
   "cell_type": "markdown",
   "id": "e37757aa",
   "metadata": {
    "id": "e37757aa"
   },
   "source": [
    "Поместите в X признаки, а в y таргеты. Далее разбейте данные на трейн и тест при помощи метода train_test_split. Долю тренировочной выборки выберите равной 0.25."
   ]
  },
  {
   "cell_type": "code",
   "execution_count": null,
   "id": "QzKyceNBckSk",
   "metadata": {
    "id": "QzKyceNBckSk"
   },
   "outputs": [],
   "source": [
    "from sklearn.model_selection import train_test_split"
   ]
  },
  {
   "cell_type": "code",
   "execution_count": null,
   "id": "fb2471d2",
   "metadata": {
    "id": "fb2471d2"
   },
   "outputs": [],
   "source": [
    "# place for your code"
   ]
  },
  {
   "cell_type": "code",
   "execution_count": null,
   "id": "5590b644",
   "metadata": {
    "id": "5590b644",
    "outputId": "bbab919b-c467-41a2-d193-d3c014ee266a"
   },
   "outputs": [
    {
     "data": {
      "text/plain": [
       "((524, 9), (175, 9))"
      ]
     },
     "execution_count": 27,
     "metadata": {},
     "output_type": "execute_result"
    }
   ],
   "source": [
    "X_train.shape, X_test.shape"
   ]
  },
  {
   "cell_type": "markdown",
   "id": "d936a625",
   "metadata": {
    "id": "d936a625"
   },
   "source": [
    "В теории упоминалось, что для корректной работы метрических методов необходимо, чтобы значения признаков в датасете находились в одной шкале. Давайте отшкалируем наши признаки, воспользовавшись алгоритмом StandardScaler."
   ]
  },
  {
   "cell_type": "code",
   "execution_count": null,
   "id": "ifUC_o1DcvDY",
   "metadata": {
    "id": "ifUC_o1DcvDY"
   },
   "outputs": [],
   "source": [
    "from sklearn.preprocessing import StandardScaler"
   ]
  },
  {
   "cell_type": "code",
   "execution_count": null,
   "id": "7b39922d",
   "metadata": {
    "id": "7b39922d"
   },
   "outputs": [],
   "source": [
    "# place for your code"
   ]
  },
  {
   "cell_type": "code",
   "execution_count": null,
   "id": "raCDrkx7c_CJ",
   "metadata": {
    "id": "raCDrkx7c_CJ"
   },
   "outputs": [],
   "source": [
    "X_train = pd.DataFrame(\"\"\"place for your code\"\"\", columns=[X.columns])\n",
    "X_test = pd.DataFrame(\"\"\"place for your code\"\"\", columns=[X.columns])"
   ]
  },
  {
   "cell_type": "markdown",
   "id": "42362257",
   "metadata": {
    "id": "42362257"
   },
   "source": [
    "Наконец все подготовки завершены. Давайте обучим K-NN со стандартными параметрами и количеством соседей, равным трем."
   ]
  },
  {
   "cell_type": "code",
   "execution_count": null,
   "id": "0cda3LLOdfza",
   "metadata": {
    "id": "0cda3LLOdfza"
   },
   "outputs": [],
   "source": [
    "from sklearn.neighbors import KNeighborsClassifier"
   ]
  },
  {
   "cell_type": "code",
   "execution_count": null,
   "id": "88c29654",
   "metadata": {
    "id": "88c29654"
   },
   "outputs": [],
   "source": [
    "# place for your code"
   ]
  },
  {
   "cell_type": "markdown",
   "id": "9d937a5f",
   "metadata": {
    "id": "9d937a5f"
   },
   "source": [
    "Сделайте предсказание на тесте."
   ]
  },
  {
   "cell_type": "code",
   "execution_count": null,
   "id": "2bdb3859",
   "metadata": {
    "id": "2bdb3859"
   },
   "outputs": [],
   "source": [
    "# place for your code"
   ]
  },
  {
   "cell_type": "markdown",
   "id": "5bab2d20",
   "metadata": {
    "id": "5bab2d20"
   },
   "source": [
    "Перейдем к метрикам. Нарисуйте матрицу ошибок, воспользовавшись указанным ниже методом."
   ]
  },
  {
   "cell_type": "code",
   "execution_count": null,
   "id": "1ef83cf3",
   "metadata": {
    "id": "1ef83cf3",
    "outputId": "376530de-c9ea-48b8-8399-ce4c34757820"
   },
   "outputs": [
    {
     "data": {
      "image/png": "[encoded data removed]",
      "text/plain": [
       "<Figure size 640x480 with 2 Axes>"
      ]
     },
     "metadata": {},
     "output_type": "display_data"
    }
   ],
   "source": [
    "from sklearn.metrics import confusion_matrix\n",
    "\n",
    "cf_matrix = # place for your code\n",
    "ax = sns.heatmap(cf_matrix, annot=True, cmap='Blues')\n",
    "\n",
    "ax.set_title('Confusion Matrix\\n\\n');\n",
    "ax.set_xlabel('\\nPredicted Values')\n",
    "ax.set_ylabel('Actual Values ');\n",
    "\n",
    "ax.xaxis.set_ticklabels(['False','True'])\n",
    "ax.yaxis.set_ticklabels(['False','True'])\n",
    "\n",
    "plt.show()"
   ]
  },
  {
   "cell_type": "markdown",
   "id": "2a476d22",
   "metadata": {
    "id": "2a476d22"
   },
   "source": [
    "Сколько ошибок первого рода, а сколько второго?\n",
    "\n",
    "Теперь посчитаем метрики precision, recall и f-меру."
   ]
  },
  {
   "cell_type": "code",
   "execution_count": null,
   "id": "cab52531",
   "metadata": {
    "id": "cab52531"
   },
   "outputs": [],
   "source": [
    "from sklearn.metrics import precision_score, recall_score, f1_score"
   ]
  },
  {
   "cell_type": "code",
   "execution_count": null,
   "id": "627102e4",
   "metadata": {
    "id": "627102e4",
    "outputId": "6f35fb21-beae-4e78-95d4-9ac9300ec2dd",
    "scrolled": true
   },
   "outputs": [
    {
     "name": "stdout",
     "output_type": "stream",
     "text": [
      "precision: 0.967741935483871\n",
      "recall: 0.9523809523809523\n",
      "f1: 0.96\n"
     ]
    }
   ],
   "source": [
    "print(\"precision:\", \"\"\"place for your code\"\"\")\n",
    "print(\"recall:\", \"\"\"place for your code\"\"\")\n",
    "print(\"f1:\", \"\"\"place for your code\"\"\")"
   ]
  },
  {
   "cell_type": "markdown",
   "id": "47d22d32",
   "metadata": {
    "id": "47d22d32"
   },
   "source": [
    "Также можно воспользоваться методом classification_report, чтобы вывести все метрики классификации сразу."
   ]
  },
  {
   "cell_type": "code",
   "execution_count": null,
   "id": "46e0f1fe",
   "metadata": {
    "id": "46e0f1fe"
   },
   "outputs": [],
   "source": [
    "from sklearn.metrics import classification_report"
   ]
  },
  {
   "cell_type": "code",
   "execution_count": null,
   "id": "6b5770f4",
   "metadata": {
    "id": "6b5770f4"
   },
   "outputs": [],
   "source": [
    "# place for your code"
   ]
  },
  {
   "cell_type": "markdown",
   "id": "ab803295",
   "metadata": {
    "id": "ab803295"
   },
   "source": [
    "Теперь, когда мы знаем, как считать метрики классификации, можно перейти к выбору числа соседей. Как вы помните, это делается при помощи кросс-валидации методом Leave One Out. Давайте будем настраиваться по метрике F1 (f1_macro)."
   ]
  },
  {
   "cell_type": "markdown",
   "id": "400f2c14",
   "metadata": {
    "id": "400f2c14"
   },
   "source": [
    "сюда вставить картинку с LOO"
   ]
  },
  {
   "cell_type": "code",
   "execution_count": null,
   "id": "45541d60",
   "metadata": {
    "id": "45541d60"
   },
   "outputs": [],
   "source": [
    "from sklearn.model_selection import LeaveOneOut\n",
    "from sklearn.model_selection import cross_val_score"
   ]
  },
  {
   "cell_type": "code",
   "execution_count": null,
   "id": "8ef849b0",
   "metadata": {
    "id": "8ef849b0"
   },
   "outputs": [],
   "source": [
    "# place for your code"
   ]
  },
  {
   "cell_type": "markdown",
   "id": "33d654e3",
   "metadata": {
    "id": "33d654e3"
   },
   "source": [
    "Посчитайте метрику для различного числа соседей от 3 до 10, а потом выведите получившиеся значения в виде графика."
   ]
  },
  {
   "cell_type": "code",
   "execution_count": null,
   "id": "_dFCvHkWecUT",
   "metadata": {
    "id": "_dFCvHkWecUT"
   },
   "outputs": [],
   "source": [
    "# place for your code"
   ]
  },
  {
   "cell_type": "code",
   "execution_count": null,
   "id": "ccccc344",
   "metadata": {
    "id": "ccccc344"
   },
   "outputs": [],
   "source": [
    "# place for your code"
   ]
  },
  {
   "cell_type": "markdown",
   "id": "26a2690b",
   "metadata": {
    "id": "26a2690b"
   },
   "source": [
    "В последующих рассчетах будем использовать получившееся пиковое значение.\n",
    "\n",
    "Давайте теперь поэскпериментируем с различными видами K-NN. Замерим время, которое требуется на обучение модели, и значения метрик для обычного K-NN, KD-Tree, Ball-Tree и K-NN, учитывающего расстояния до объектов. Во всех экспериментах используйте измерение качества при помощи LOO."
   ]
  },
  {
   "cell_type": "code",
   "execution_count": null,
   "id": "b607b42c",
   "metadata": {
    "id": "b607b42c",
    "outputId": "8c0a2f47-862b-4791-fb31-4336852ba531"
   },
   "outputs": [
    {
     "name": "stdout",
     "output_type": "stream",
     "text": [
      "CPU times: total: 703 ms\n",
      "Wall time: 14.1 s\n"
     ]
    },
    {
     "data": {
      "text/plain": [
       "0.9675572519083969"
      ]
     },
     "execution_count": 63,
     "metadata": {},
     "output_type": "execute_result"
    }
   ],
   "source": [
    "%%time\n",
    "\n",
    "# standart k-nn\n",
    "\n",
    "# place for your code"
   ]
  },
  {
   "cell_type": "code",
   "execution_count": null,
   "id": "60443bf7",
   "metadata": {
    "id": "60443bf7",
    "outputId": "0f8d3766-bb2e-4d40-9476-cf5d9f9b2acc"
   },
   "outputs": [
    {
     "name": "stdout",
     "output_type": "stream",
     "text": [
      "CPU times: total: 453 ms\n",
      "Wall time: 2.15 s\n"
     ]
    },
    {
     "data": {
      "text/plain": [
       "0.9675572519083969"
      ]
     },
     "execution_count": 58,
     "metadata": {},
     "output_type": "execute_result"
    }
   ],
   "source": [
    "%%time\n",
    "\n",
    "# kd-tree\n",
    "\n",
    "# place for your code"
   ]
  },
  {
   "cell_type": "code",
   "execution_count": null,
   "id": "606e9c65",
   "metadata": {
    "id": "606e9c65",
    "outputId": "1eff5440-8ca5-49bf-cbc7-1e5e9b36a4b2"
   },
   "outputs": [
    {
     "name": "stdout",
     "output_type": "stream",
     "text": [
      "CPU times: total: 375 ms\n",
      "Wall time: 1.92 s\n"
     ]
    },
    {
     "data": {
      "text/plain": [
       "0.9675572519083969"
      ]
     },
     "execution_count": 59,
     "metadata": {},
     "output_type": "execute_result"
    }
   ],
   "source": [
    "%%time\n",
    "\n",
    "# ball-tree\n",
    "\n",
    "# place for your code"
   ]
  },
  {
   "cell_type": "code",
   "execution_count": null,
   "id": "eaa6b809",
   "metadata": {
    "id": "eaa6b809",
    "outputId": "067d7c3f-b596-4f54-9c5a-3efd5acbf6fe"
   },
   "outputs": [
    {
     "name": "stdout",
     "output_type": "stream",
     "text": [
      "CPU times: total: 328 ms\n",
      "Wall time: 1.98 s\n"
     ]
    },
    {
     "data": {
      "text/plain": [
       "0.9694656488549618"
      ]
     },
     "execution_count": 60,
     "metadata": {},
     "output_type": "execute_result"
    }
   ],
   "source": [
    "%%time\n",
    "\n",
    "# weighted k-nn\n",
    "\n",
    "# place for your code"
   ]
  }
 ],
 "metadata": {
  "colab": {
   "provenance": []
  },
  "kernelspec": {
   "display_name": "Python 3 (ipykernel)",
   "language": "python",
   "name": "python3"
  },
  "language_info": {
   "codemirror_mode": {
    "name": "ipython",
    "version": 3
   },
   "file_extension": ".py",
   "mimetype": "text/x-python",
   "name": "python",
   "nbconvert_exporter": "python",
   "pygments_lexer": "ipython3",
   "version": "3.11.5"
  }
 },
 "nbformat": 4,
 "nbformat_minor": 5
}
